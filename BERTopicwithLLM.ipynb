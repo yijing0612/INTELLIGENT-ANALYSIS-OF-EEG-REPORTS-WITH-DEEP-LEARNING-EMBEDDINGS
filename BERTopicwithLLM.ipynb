{
  "cells": [
    {
      "cell_type": "code",
      "execution_count": 1,
      "metadata": {
        "id": "O2ZyKyL6CWhz"
      },
      "outputs": [
        {
          "name": "stderr",
          "output_type": "stream",
          "text": [
            "c:\\Users\\yijin\\anaconda3\\envs\\thesis\\Lib\\site-packages\\tqdm\\auto.py:21: TqdmWarning: IProgress not found. Please update jupyter and ipywidgets. See https://ipywidgets.readthedocs.io/en/stable/user_install.html\n",
            "  from .autonotebook import tqdm as notebook_tqdm\n"
          ]
        }
      ],
      "source": [
        "import gensim\n",
        "import nltk\n",
        "import pandas as pd\n",
        "from gensim import corpora\n",
        "from gensim.models import LdaModel\n",
        "from gensim.utils import simple_preprocess\n",
        "from nltk.corpus import stopwords\n",
        "from langchain.chains import LLMChain\n",
        "from langchain.prompts import ChatPromptTemplate\n",
        "from langchain.llms import OpenAI\n",
        "from bertopic import BERTopic\n",
        "import pandas as pd\n",
        "import nltk\n",
        "from nltk.corpus import stopwords\n",
        "from nltk.stem import SnowballStemmer\n",
        "import re\n",
        "import gensim\n",
        "import spacy\n",
        "import gensim.corpora as corpora\n",
        "import gensim.models as models\n",
        "from textblob import TextBlob\n",
        "from nltk.corpus import wordnet\n",
        "from nltk.tokenize import word_tokenize\n",
        "from ast import literal_eval\n",
        "import string"
      ]
    },
    {
      "cell_type": "code",
      "execution_count": 2,
      "metadata": {
        "colab": {
          "base_uri": "https://localhost:8080/"
        },
        "id": "mY6nLUAiaji7",
        "outputId": "a78e05ac-d0f5-4fc1-8689-849c831c0342"
      },
      "outputs": [
        {
          "name": "stderr",
          "output_type": "stream",
          "text": [
            "[nltk_data] Downloading package stopwords to\n",
            "[nltk_data]     C:\\Users\\yijin\\AppData\\Roaming\\nltk_data...\n",
            "[nltk_data]   Package stopwords is already up-to-date!\n"
          ]
        },
        {
          "data": {
            "text/plain": [
              "True"
            ]
          },
          "execution_count": 2,
          "metadata": {},
          "output_type": "execute_result"
        }
      ],
      "source": [
        "nltk.download('stopwords')"
      ]
    },
    {
      "cell_type": "code",
      "execution_count": 3,
      "metadata": {
        "id": "qn3y36nhayxk"
      },
      "outputs": [],
      "source": [
        "stop_words = stopwords.words(\"english\")\n",
        "stemmer = SnowballStemmer(\"english\")"
      ]
    },
    {
      "cell_type": "code",
      "execution_count": 4,
      "metadata": {
        "id": "ALTlLH_Da5CR"
      },
      "outputs": [],
      "source": [
        "# TEXT CLEANING\n",
        "TEXT_CLEANING = \"@\\S+|https?:\\S+|http?:\\S|[^A-Za-z]+\"\n",
        "\n",
        "def preprocess(text, stem=False):\n",
        "\n",
        "    text = re.sub(TEXT_CLEANING, ' ', str(text).lower()).strip()\n",
        "    tokens = []\n",
        "\n",
        "    for token in text.split():\n",
        "        if token not in stop_words:\n",
        "            if stem:\n",
        "                tokens.append(stemmer.stem(token))\n",
        "            else:\n",
        "                tokens.append(token)\n",
        "\n",
        "    return \" \".join(tokens)"
      ]
    },
    {
      "cell_type": "code",
      "execution_count": 10,
      "metadata": {
        "id": "GhCGufm1C_1l"
      },
      "outputs": [],
      "source": [
        "def get_topic_lists_from_corpus(file, num_topics, words_per_topic):\n",
        "    \"\"\"\n",
        "    Extracts topics and their associated words from a PDF document using the\n",
        "    BERTopic.\n",
        "\n",
        "    Parameters:\n",
        "        file (str): The path to the PDF file for topic extraction.\n",
        "        num_topics (int): The number of topics to discover.\n",
        "        words_per_topic (int): The number of words to include per topic.\n",
        "\n",
        "    Returns:\n",
        "        list: A list of num_topics sublists, each containing relevant words\n",
        "        for a topic.\n",
        "    \"\"\"\n",
        "    # Load the CSV file\n",
        "    df = pd.read_csv(file, on_bad_lines='skip', encoding='latin1')\n",
        "\n",
        "    # Check if 'text' column exists\n",
        "    if 'conclusion' not in df.columns:\n",
        "        raise ValueError(\"CSV file must contain a 'text' column\")\n",
        "\n",
        "    # Extract the text into a list. Each row is considered a document\n",
        "    df.conclusion = df.conclusion.apply(lambda x: preprocess(x))\n",
        "    processed_documents = df['conclusion'].tolist()\n",
        "\n",
        "    bertmodel = BERTopic(nr_topics = 15, verbose=True)\n",
        "    topics, probabilities = bertmodel.fit_transform(processed_documents)\n",
        "\n",
        "\n",
        "    # Get the most frequent topics\n",
        "    top_topics = bertmodel.get_topic_freq().head(num_topics)\n",
        "\n",
        "    # Store each list of words from each topic into a list\n",
        "    topics_ls = []\n",
        "    keywords_per_topic = {}\n",
        "\n",
        "    for topic_id, words in bertmodel.get_topics().items():\n",
        "        keywords_per_topic[topic_id] = words[:words_per_topic]  # Extract first words_per_topic words as keywords\n",
        "        topics_ls.append(words[:words_per_topic])\n",
        "\n",
        "    return topics_ls"
      ]
    },
    {
      "cell_type": "code",
      "execution_count": 21,
      "metadata": {
        "id": "7QxrGu82DVdF"
      },
      "outputs": [],
      "source": [
        "def topics_from_corpus(llm, file, num_topics, words_per_topic):\n",
        "    \"\"\"\n",
        "    Generates descriptive prompts for LLM based on topic words extracted from a\n",
        "    PDF document.\n",
        "\n",
        "    This function takes the output of `get_topic_lists_from_corpus` function,\n",
        "    which consists of a list of topic-related words for each topic, and\n",
        "    generates an output string in table of content format.\n",
        "\n",
        "    Parameters:\n",
        "        llm (LLM): An instance of the Large Language Model (LLM) for generating\n",
        "        responses.\n",
        "        file (str): The path to the PDF file for extracting topic-related words.\n",
        "        num_topics (int): The number of topics to consider.\n",
        "        words_per_topic (int): The number of words per topic to include.\n",
        "\n",
        "    Returns:\n",
        "        str: A response generated by the language model based on the provided\n",
        "        topic words.\n",
        "    \"\"\"\n",
        "\n",
        "    # Extract topics and convert to string\n",
        "    list_of_topicwords = get_topic_lists_from_corpus(file, num_topics,\n",
        "                                                  words_per_topic)\n",
        "    string_bert = \"\"\n",
        "    for list in list_of_topicwords:\n",
        "        string_bert += str(list) + \"\\n\"\n",
        "\n",
        "    # Create the template\n",
        "    template_string = '''Describe the topic of each of the {num_topics} and give the topic a name.\n",
        "        Double-quote delimited lists in a simple sentence and describe the topic.\n",
        "        The lists are the result of an algorithm for topic discovery.\n",
        "        Do not provide an introduction or a conclusion, only describe the\n",
        "        topics. Do not mention the word \"topic\" when describing the topics.\n",
        "        Use the following template for the response.\n",
        "\n",
        "        1: (Topic Name) This topic discusses the [brief description of the topic].\n",
        "        - Keywords: [Comma-separated keywords]\n",
        "\n",
        "        2: (Topic Name) This topic focuses on the [brief description of the topic].\n",
        "        - Keywords: [Comma-separated keywords]\n",
        "\n",
        "        ...\n",
        "\n",
        "        n: (Topic Name) This topic covers the [brief description of the topic].\n",
        "        - Keywords: [Comma-separated keywords]\n",
        "\n",
        "        Lists: \"\"\"{string_bert}\"\"\" '''\n",
        "\n",
        "    # LLM call\n",
        "    prompt_template = ChatPromptTemplate.from_template(template_string)\n",
        "    chain = LLMChain(llm=llm, prompt=prompt_template)\n",
        "    response = chain.run({\n",
        "        \"string_bert\" : string_bert,\n",
        "        \"num_topics\" : num_topics\n",
        "        })\n",
        "\n",
        "    return response"
      ]
    },
    {
      "cell_type": "code",
      "execution_count": 22,
      "metadata": {
        "id": "Hxj3q5M7DYE5"
      },
      "outputs": [],
      "source": [
        "openai_key = \"\"\n",
        "llm = OpenAI(openai_api_key=openai_key, max_tokens=-1)"
      ]
    },
    {
      "cell_type": "code",
      "execution_count": 23,
      "metadata": {
        "colab": {
          "base_uri": "https://localhost:8080/",
          "height": 223,
          "referenced_widgets": [
            "576f267d621249ffb2c86987dc61543a",
            "b6a25098c646421b99853f7329775e2c",
            "b5f5b6328c804dd29b68404486479a00",
            "0db9122f50fd4f1ea75a8fc98c29ea5c",
            "fde3c9ebf7d04f559fe4eadeb3352c61",
            "b4ba71a778e14f8fae42b8c45ebccc1b",
            "22f24ff1f1fd43a49a0337d7a6e5b3d0",
            "c0db0fe8c4c44f328e9d1319abc01f28",
            "1a2238ba290d418da19593a05ba74387",
            "16d1bcb62a80422d80deeb7f7e631f8d",
            "11c48bf6410c4fb3acd7278acebb0254"
          ]
        },
        "id": "aUyIvDJIHiAG",
        "outputId": "71c61dca-5387-4c88-b1e7-72ebba02eaa2"
      },
      "outputs": [
        {
          "name": "stderr",
          "output_type": "stream",
          "text": [
            "2024-06-04 12:36:16,646 - BERTopic - Embedding - Transforming documents to embeddings.\n",
            "Batches: 100%|██████████| 466/466 [00:05<00:00, 87.50it/s] \n",
            "2024-06-04 12:36:26,949 - BERTopic - Embedding - Completed ✓\n",
            "2024-06-04 12:36:26,950 - BERTopic - Dimensionality - Fitting the dimensionality reduction algorithm\n",
            "2024-06-04 12:36:36,721 - BERTopic - Dimensionality - Completed ✓\n",
            "2024-06-04 12:36:36,723 - BERTopic - Cluster - Start clustering the reduced embeddings\n",
            "2024-06-04 12:36:37,126 - BERTopic - Cluster - Completed ✓\n",
            "2024-06-04 12:36:37,126 - BERTopic - Representation - Extracting topics from clusters using representation models.\n",
            "2024-06-04 12:36:37,334 - BERTopic - Representation - Completed ✓\n",
            "2024-06-04 12:36:37,335 - BERTopic - Topic reduction - Reducing number of topics\n",
            "2024-06-04 12:36:37,477 - BERTopic - Topic reduction - Reduced number of topics from 219 to 15\n"
          ]
        }
      ],
      "source": [
        "file = \"Report Dataset.csv\"\n",
        "num_topics = 15\n",
        "words_per_topic = 15\n",
        "\n",
        "summary = topics_from_corpus(llm, file, num_topics, words_per_topic)"
      ]
    },
    {
      "cell_type": "code",
      "execution_count": 24,
      "metadata": {
        "colab": {
          "base_uri": "https://localhost:8080/"
        },
        "id": "dyQtkph3OZXp",
        "outputId": "57d79894-75e0-4a55-e36f-bfdb276d5980"
      },
      "outputs": [
        {
          "name": "stdout",
          "output_type": "stream",
          "text": [
            "\n",
            "\n",
            "1: (EEG Waves) This topic discusses the various types of EEG waves and their significance.\n",
            "- Keywords: eeg, waves, abnormal, slow, temporal, background, focal, region, diffuse, consistent\n",
            "\n",
            "2: (Seizure Disorder) This topic focuses on the diagnosis and characteristics of seizure disorders.\n",
            "- Keywords: seizure, disorder, waves, focal, sharp, temporal, abnormal, eeg, region, head\n",
            "\n",
            "3: (Normal EEG) This topic covers the normal range of EEG readings for different ages.\n",
            "- Keywords: normal, within, limits, eeg, limit, age, alpha, compared, hyperventilation, otherwise\n",
            "\n",
            "4: (Diffuse Brain Dysfunction) This topic discusses diffuse brain dysfunction and its impact on EEG readings.\n",
            "- Keywords: diffuse, dysfunction, cortical, slow, waves, severe, encephalopathy, consistent, abnormal, eeg\n",
            "\n",
            "5: (Sleep EEG) This topic covers the characteristics and findings of EEG readings during sleep.\n",
            "- Keywords: sleep, awake, normal, eeg, discharges, epilepsy, showing, temporal, findings, background\n",
            "\n",
            "6: (Epileptiform Discharges) This topic focuses on epileptiform discharges and their relationship to EEG readings.\n",
            "- Keywords: epileptiform, discharges, cortical, dysfunction, slow, diffuse, suggestive, background, hz, focal\n",
            "\n",
            "7: (Sharp Waves) This topic discusses the significance and characteristics of sharp waves in EEG readings.\n",
            "- Keywords: sharp, suspicious, waves, temporal, wave, area, significance, slow, occasional, seen\n",
            "\n",
            "8: (Narcolepsy) This topic covers the diagnosis and characteristics of narcolepsy based on EEG readings.\n",
            "- Keywords: narcolepsy, rem, latency, onset, mslt, sleep, somnolence, study, mean, epochs\n",
            "\n",
            "9: (Empty Topic) This topic does not have enough information to determine a specific focus.\n",
            "- Keywords: name\n",
            "\n",
            "10: (Suppression Patterns) This topic covers EEG patterns related to suppression and their significance.\n",
            "- Keywords: suppression, burst, thiopentone, pattern, phenobarbitone, infusion, suppressed, secondary, seconds, lignocare\n",
            "\n",
            "11: (Normal EEG Study) This topic discusses the findings and implications of a normal EEG study.\n",
            "- Keywords: study, normal\n",
            "\n",
            "12: (Bitemporal Seizures) This topic focuses on EEG findings related to bitemporal seizures.\n",
            "- Keywords: bitemporal, indicating, due, partial, arising, discharges, disorder, seizure, abnormal, region\n",
            "\n",
            "13: (Electrocerebral Silence) This topic covers the phenomenon of electrocerebral silence and its prognosis.\n",
            "- Keywords: electrocerebral, silence, prognosis, severe, process, silent, poor, isoelectric, attenuation, activity\n",
            "\n",
            "14: (Infantile Spasms) This topic discusses EEG findings related to infantile spasms and their diagnosis.\n",
            "- Keywords: infantile, spasm, hypsarrhythmia, spasms, multifocal, high, modified, cluster, captured, markedly\n",
            "\n",
            "15: (Normal Range) This topic covers the normal range of EEG readings and their significance.\n",
            "- Keywords: within, limits, normal, record, limit\n"
          ]
        }
      ],
      "source": [
        "print(summary)"
      ]
    },
    {
      "cell_type": "code",
      "execution_count": null,
      "metadata": {
        "id": "iRp4Gg3aLCrP"
      },
      "outputs": [],
      "source": []
    },
    {
      "cell_type": "code",
      "execution_count": null,
      "metadata": {},
      "outputs": [],
      "source": []
    }
  ],
  "metadata": {
    "accelerator": "GPU",
    "colab": {
      "gpuType": "L4",
      "machine_shape": "hm",
      "provenance": []
    },
    "kernelspec": {
      "display_name": "Python 3",
      "name": "python3"
    },
    "language_info": {
      "codemirror_mode": {
        "name": "ipython",
        "version": 3
      },
      "file_extension": ".py",
      "mimetype": "text/x-python",
      "name": "python",
      "nbconvert_exporter": "python",
      "pygments_lexer": "ipython3",
      "version": "3.11.7"
    },
    "widgets": {
      "application/vnd.jupyter.widget-state+json": {
        "0db9122f50fd4f1ea75a8fc98c29ea5c": {
          "model_module": "@jupyter-widgets/controls",
          "model_module_version": "1.5.0",
          "model_name": "HTMLModel",
          "state": {
            "_dom_classes": [],
            "_model_module": "@jupyter-widgets/controls",
            "_model_module_version": "1.5.0",
            "_model_name": "HTMLModel",
            "_view_count": null,
            "_view_module": "@jupyter-widgets/controls",
            "_view_module_version": "1.5.0",
            "_view_name": "HTMLView",
            "description": "",
            "description_tooltip": null,
            "layout": "IPY_MODEL_16d1bcb62a80422d80deeb7f7e631f8d",
            "placeholder": "​",
            "style": "IPY_MODEL_11c48bf6410c4fb3acd7278acebb0254",
            "value": " 466/466 [00:03&lt;00:00, 145.35it/s]"
          }
        },
        "11c48bf6410c4fb3acd7278acebb0254": {
          "model_module": "@jupyter-widgets/controls",
          "model_module_version": "1.5.0",
          "model_name": "DescriptionStyleModel",
          "state": {
            "_model_module": "@jupyter-widgets/controls",
            "_model_module_version": "1.5.0",
            "_model_name": "DescriptionStyleModel",
            "_view_count": null,
            "_view_module": "@jupyter-widgets/base",
            "_view_module_version": "1.2.0",
            "_view_name": "StyleView",
            "description_width": ""
          }
        },
        "16d1bcb62a80422d80deeb7f7e631f8d": {
          "model_module": "@jupyter-widgets/base",
          "model_module_version": "1.2.0",
          "model_name": "LayoutModel",
          "state": {
            "_model_module": "@jupyter-widgets/base",
            "_model_module_version": "1.2.0",
            "_model_name": "LayoutModel",
            "_view_count": null,
            "_view_module": "@jupyter-widgets/base",
            "_view_module_version": "1.2.0",
            "_view_name": "LayoutView",
            "align_content": null,
            "align_items": null,
            "align_self": null,
            "border": null,
            "bottom": null,
            "display": null,
            "flex": null,
            "flex_flow": null,
            "grid_area": null,
            "grid_auto_columns": null,
            "grid_auto_flow": null,
            "grid_auto_rows": null,
            "grid_column": null,
            "grid_gap": null,
            "grid_row": null,
            "grid_template_areas": null,
            "grid_template_columns": null,
            "grid_template_rows": null,
            "height": null,
            "justify_content": null,
            "justify_items": null,
            "left": null,
            "margin": null,
            "max_height": null,
            "max_width": null,
            "min_height": null,
            "min_width": null,
            "object_fit": null,
            "object_position": null,
            "order": null,
            "overflow": null,
            "overflow_x": null,
            "overflow_y": null,
            "padding": null,
            "right": null,
            "top": null,
            "visibility": null,
            "width": null
          }
        },
        "1a2238ba290d418da19593a05ba74387": {
          "model_module": "@jupyter-widgets/controls",
          "model_module_version": "1.5.0",
          "model_name": "ProgressStyleModel",
          "state": {
            "_model_module": "@jupyter-widgets/controls",
            "_model_module_version": "1.5.0",
            "_model_name": "ProgressStyleModel",
            "_view_count": null,
            "_view_module": "@jupyter-widgets/base",
            "_view_module_version": "1.2.0",
            "_view_name": "StyleView",
            "bar_color": null,
            "description_width": ""
          }
        },
        "22f24ff1f1fd43a49a0337d7a6e5b3d0": {
          "model_module": "@jupyter-widgets/controls",
          "model_module_version": "1.5.0",
          "model_name": "DescriptionStyleModel",
          "state": {
            "_model_module": "@jupyter-widgets/controls",
            "_model_module_version": "1.5.0",
            "_model_name": "DescriptionStyleModel",
            "_view_count": null,
            "_view_module": "@jupyter-widgets/base",
            "_view_module_version": "1.2.0",
            "_view_name": "StyleView",
            "description_width": ""
          }
        },
        "576f267d621249ffb2c86987dc61543a": {
          "model_module": "@jupyter-widgets/controls",
          "model_module_version": "1.5.0",
          "model_name": "HBoxModel",
          "state": {
            "_dom_classes": [],
            "_model_module": "@jupyter-widgets/controls",
            "_model_module_version": "1.5.0",
            "_model_name": "HBoxModel",
            "_view_count": null,
            "_view_module": "@jupyter-widgets/controls",
            "_view_module_version": "1.5.0",
            "_view_name": "HBoxView",
            "box_style": "",
            "children": [
              "IPY_MODEL_b6a25098c646421b99853f7329775e2c",
              "IPY_MODEL_b5f5b6328c804dd29b68404486479a00",
              "IPY_MODEL_0db9122f50fd4f1ea75a8fc98c29ea5c"
            ],
            "layout": "IPY_MODEL_fde3c9ebf7d04f559fe4eadeb3352c61"
          }
        },
        "b4ba71a778e14f8fae42b8c45ebccc1b": {
          "model_module": "@jupyter-widgets/base",
          "model_module_version": "1.2.0",
          "model_name": "LayoutModel",
          "state": {
            "_model_module": "@jupyter-widgets/base",
            "_model_module_version": "1.2.0",
            "_model_name": "LayoutModel",
            "_view_count": null,
            "_view_module": "@jupyter-widgets/base",
            "_view_module_version": "1.2.0",
            "_view_name": "LayoutView",
            "align_content": null,
            "align_items": null,
            "align_self": null,
            "border": null,
            "bottom": null,
            "display": null,
            "flex": null,
            "flex_flow": null,
            "grid_area": null,
            "grid_auto_columns": null,
            "grid_auto_flow": null,
            "grid_auto_rows": null,
            "grid_column": null,
            "grid_gap": null,
            "grid_row": null,
            "grid_template_areas": null,
            "grid_template_columns": null,
            "grid_template_rows": null,
            "height": null,
            "justify_content": null,
            "justify_items": null,
            "left": null,
            "margin": null,
            "max_height": null,
            "max_width": null,
            "min_height": null,
            "min_width": null,
            "object_fit": null,
            "object_position": null,
            "order": null,
            "overflow": null,
            "overflow_x": null,
            "overflow_y": null,
            "padding": null,
            "right": null,
            "top": null,
            "visibility": null,
            "width": null
          }
        },
        "b5f5b6328c804dd29b68404486479a00": {
          "model_module": "@jupyter-widgets/controls",
          "model_module_version": "1.5.0",
          "model_name": "FloatProgressModel",
          "state": {
            "_dom_classes": [],
            "_model_module": "@jupyter-widgets/controls",
            "_model_module_version": "1.5.0",
            "_model_name": "FloatProgressModel",
            "_view_count": null,
            "_view_module": "@jupyter-widgets/controls",
            "_view_module_version": "1.5.0",
            "_view_name": "ProgressView",
            "bar_style": "success",
            "description": "",
            "description_tooltip": null,
            "layout": "IPY_MODEL_c0db0fe8c4c44f328e9d1319abc01f28",
            "max": 466,
            "min": 0,
            "orientation": "horizontal",
            "style": "IPY_MODEL_1a2238ba290d418da19593a05ba74387",
            "value": 466
          }
        },
        "b6a25098c646421b99853f7329775e2c": {
          "model_module": "@jupyter-widgets/controls",
          "model_module_version": "1.5.0",
          "model_name": "HTMLModel",
          "state": {
            "_dom_classes": [],
            "_model_module": "@jupyter-widgets/controls",
            "_model_module_version": "1.5.0",
            "_model_name": "HTMLModel",
            "_view_count": null,
            "_view_module": "@jupyter-widgets/controls",
            "_view_module_version": "1.5.0",
            "_view_name": "HTMLView",
            "description": "",
            "description_tooltip": null,
            "layout": "IPY_MODEL_b4ba71a778e14f8fae42b8c45ebccc1b",
            "placeholder": "​",
            "style": "IPY_MODEL_22f24ff1f1fd43a49a0337d7a6e5b3d0",
            "value": "Batches: 100%"
          }
        },
        "c0db0fe8c4c44f328e9d1319abc01f28": {
          "model_module": "@jupyter-widgets/base",
          "model_module_version": "1.2.0",
          "model_name": "LayoutModel",
          "state": {
            "_model_module": "@jupyter-widgets/base",
            "_model_module_version": "1.2.0",
            "_model_name": "LayoutModel",
            "_view_count": null,
            "_view_module": "@jupyter-widgets/base",
            "_view_module_version": "1.2.0",
            "_view_name": "LayoutView",
            "align_content": null,
            "align_items": null,
            "align_self": null,
            "border": null,
            "bottom": null,
            "display": null,
            "flex": null,
            "flex_flow": null,
            "grid_area": null,
            "grid_auto_columns": null,
            "grid_auto_flow": null,
            "grid_auto_rows": null,
            "grid_column": null,
            "grid_gap": null,
            "grid_row": null,
            "grid_template_areas": null,
            "grid_template_columns": null,
            "grid_template_rows": null,
            "height": null,
            "justify_content": null,
            "justify_items": null,
            "left": null,
            "margin": null,
            "max_height": null,
            "max_width": null,
            "min_height": null,
            "min_width": null,
            "object_fit": null,
            "object_position": null,
            "order": null,
            "overflow": null,
            "overflow_x": null,
            "overflow_y": null,
            "padding": null,
            "right": null,
            "top": null,
            "visibility": null,
            "width": null
          }
        },
        "fde3c9ebf7d04f559fe4eadeb3352c61": {
          "model_module": "@jupyter-widgets/base",
          "model_module_version": "1.2.0",
          "model_name": "LayoutModel",
          "state": {
            "_model_module": "@jupyter-widgets/base",
            "_model_module_version": "1.2.0",
            "_model_name": "LayoutModel",
            "_view_count": null,
            "_view_module": "@jupyter-widgets/base",
            "_view_module_version": "1.2.0",
            "_view_name": "LayoutView",
            "align_content": null,
            "align_items": null,
            "align_self": null,
            "border": null,
            "bottom": null,
            "display": null,
            "flex": null,
            "flex_flow": null,
            "grid_area": null,
            "grid_auto_columns": null,
            "grid_auto_flow": null,
            "grid_auto_rows": null,
            "grid_column": null,
            "grid_gap": null,
            "grid_row": null,
            "grid_template_areas": null,
            "grid_template_columns": null,
            "grid_template_rows": null,
            "height": null,
            "justify_content": null,
            "justify_items": null,
            "left": null,
            "margin": null,
            "max_height": null,
            "max_width": null,
            "min_height": null,
            "min_width": null,
            "object_fit": null,
            "object_position": null,
            "order": null,
            "overflow": null,
            "overflow_x": null,
            "overflow_y": null,
            "padding": null,
            "right": null,
            "top": null,
            "visibility": null,
            "width": null
          }
        }
      }
    }
  },
  "nbformat": 4,
  "nbformat_minor": 0
}
