{
  "cells": [
    {
      "cell_type": "code",
      "execution_count": null,
      "metadata": {
        "colab": {
          "base_uri": "https://localhost:8080/"
        },
        "id": "Cfw1ZTrSl1b-",
        "outputId": "10b02ff1-ba88-495d-fc5a-d872b9fdd8f8"
      },
      "outputs": [
        {
          "name": "stdout",
          "output_type": "stream",
          "text": [
            "Mounted at /content/drive\n"
          ]
        }
      ],
      "source": [
        "from google.colab import drive\n",
        "drive.mount('/content/drive')"
      ]
    },
    {
      "cell_type": "code",
      "execution_count": null,
      "metadata": {
        "id": "GdYrhbWeoSaq"
      },
      "outputs": [],
      "source": [
        "gdrive_path = '/content/drive/MyDrive/mydata'"
      ]
    },
    {
      "cell_type": "code",
      "execution_count": null,
      "metadata": {
        "id": "TjYaQ9zUoY-_"
      },
      "outputs": [],
      "source": [
        "import tensorflow as tf\n",
        "from tensorflow.keras.layers import Layer\n",
        "from tensorflow.keras.preprocessing.text import Tokenizer\n",
        "from tensorflow.keras.preprocessing.sequence import pad_sequences\n",
        "from tensorflow.keras.models import Sequential\n",
        "from tensorflow.keras.layers import Bidirectional, MultiHeadAttention, Activation, Dense, Dropout, Embedding, Flatten, Conv1D, MaxPooling1D, LSTM, GRU\n",
        "from tensorflow.keras import utils\n",
        "from tensorflow.keras import backend as K\n",
        "from tensorflow.keras.callbacks import ReduceLROnPlateau, EarlyStopping\n",
        "import pandas as pd\n",
        "import string\n",
        "import re\n",
        "import nltk\n",
        "from textblob import TextBlob\n",
        "from nltk.corpus import wordnet\n",
        "from nltk.metrics import edit_distance\n",
        "from nltk.stem import WordNetLemmatizer\n",
        "from nltk.corpus import stopwords\n",
        "from nltk.stem import SnowballStemmer\n",
        "from nltk.tokenize import word_tokenize\n",
        "from sklearn.model_selection import train_test_split\n",
        "import pickle\n",
        "import itertools\n",
        "from sklearn.svm import SVC\n",
        "from sklearn.preprocessing import LabelEncoder\n",
        "from sklearn.metrics import classification_report\n",
        "from sklearn.metrics import confusion_matrix\n",
        "from sklearn.metrics import accuracy_score\n",
        "import matplotlib.pyplot as plt\n",
        "import gensim\n",
        "import numpy as np\n",
        "from tensorflow.keras.preprocessing.text import Tokenizer\n",
        "from tensorflow.keras.preprocessing.sequence import pad_sequences"
      ]
    },
    {
      "cell_type": "code",
      "execution_count": null,
      "metadata": {
        "colab": {
          "base_uri": "https://localhost:8080/"
        },
        "id": "R4o2ov-HoaTC",
        "outputId": "10ff6c4b-5e4b-4c2e-f20c-37f613a0cfe0"
      },
      "outputs": [
        {
          "data": {
            "text/plain": [
              "[PhysicalDevice(name='/physical_device:GPU:0', device_type='GPU')]"
            ]
          },
          "execution_count": 4,
          "metadata": {},
          "output_type": "execute_result"
        }
      ],
      "source": [
        "tf.config.list_physical_devices('GPU')"
      ]
    },
    {
      "cell_type": "code",
      "execution_count": null,
      "metadata": {
        "id": "Sv3W5OI4d_HJ"
      },
      "outputs": [],
      "source": [
        "whole_data = pd.read_csv(\"Supervised_whole_data.csv\")\n",
        "train_data = pd.read_csv(\"supervised_train_data.csv\")\n",
        "test_data = pd.read_csv(\"supervised_test_data.csv\")"
      ]
    },
    {
      "cell_type": "code",
      "execution_count": null,
      "metadata": {
        "id": "9c80rlzoowYF"
      },
      "outputs": [],
      "source": [
        "# WORD2VEC\n",
        "W2V_SIZE = 300\n",
        "W2V_WINDOW = 7\n",
        "W2V_EPOCH = 32\n",
        "W2V_MIN_COUNT = 10\n",
        "\n",
        "# KERAS\n",
        "SEQUENCE_LENGTH = 300\n",
        "EPOCHS = 32\n",
        "BATCH_SIZE = 1024\n",
        "\n",
        "NORMAL = 0\n",
        "ABNORMAL = 1\n",
        "CLASSIFICATION_THRESHOLDS = (0.4, 0.7)\n",
        "\n",
        "KERAS_MODEL = \"att_lstm_w2v_cbow.sav\"\n",
        "WORD2VEC_MODEL = \"att_model.w2v_cbow\"\n",
        "TOKENIZER_MODEL = \"att_w2v_tokenizer_cbow.pkl\"\n",
        "ENCODER_MODEL = \"att_encoder_cbow.pkl\""
      ]
    },
    {
      "cell_type": "code",
      "execution_count": null,
      "metadata": {
        "colab": {
          "base_uri": "https://localhost:8080/"
        },
        "id": "MrBqcVAOoyIv",
        "outputId": "f2323b90-d25f-4c95-8772-b267f426ddae"
      },
      "outputs": [
        {
          "name": "stderr",
          "output_type": "stream",
          "text": [
            "[nltk_data] Downloading package stopwords to /root/nltk_data...\n",
            "[nltk_data]   Unzipping corpora/stopwords.zip.\n"
          ]
        },
        {
          "data": {
            "text/plain": [
              "True"
            ]
          },
          "execution_count": 8,
          "metadata": {},
          "output_type": "execute_result"
        }
      ],
      "source": [
        "nltk.download('stopwords')"
      ]
    },
    {
      "cell_type": "code",
      "execution_count": null,
      "metadata": {
        "id": "1hpl9wYBozGd"
      },
      "outputs": [],
      "source": [
        "stop_words = stopwords.words(\"english\")\n",
        "stemmer = SnowballStemmer(\"english\")"
      ]
    },
    {
      "cell_type": "code",
      "execution_count": null,
      "metadata": {
        "id": "THvF2Zt_o0Ar"
      },
      "outputs": [],
      "source": [
        "# TEXT CLEANING\n",
        "TEXT_CLEANING = \"@\\S+|https?:\\S+|http?:\\S|[^A-Za-z]+\"\n",
        "\n",
        "def preprocess(text, stem=False):\n",
        "\n",
        "    text = re.sub(TEXT_CLEANING, ' ', str(text).lower()).strip()\n",
        "    tokens = []\n",
        "\n",
        "    for token in text.split():\n",
        "        if token not in stop_words:\n",
        "            if stem:\n",
        "                tokens.append(stemmer.stem(token))\n",
        "            else:\n",
        "                tokens.append(token)\n",
        "\n",
        "    return \" \".join(tokens)"
      ]
    },
    {
      "cell_type": "code",
      "execution_count": null,
      "metadata": {
        "id": "Dcpzj5oCo1rr"
      },
      "outputs": [],
      "source": [
        "whole_data.conclusion = whole_data.conclusion.apply(lambda x: preprocess(x))\n",
        "train_data.conclusion = train_data.conclusion.apply(lambda x: preprocess(x))\n",
        "test_data.conclusion = test_data.conclusion.apply(lambda x: preprocess(x))"
      ]
    },
    {
      "cell_type": "code",
      "execution_count": null,
      "metadata": {
        "colab": {
          "base_uri": "https://localhost:8080/",
          "height": 363
        },
        "id": "c1FUxAYco23e",
        "outputId": "05505dbd-21b9-4ec2-d25a-9e0649e8f565"
      },
      "outputs": [
        {
          "data": {
            "application/vnd.google.colaboratory.intrinsic+json": {
              "summary": "{\n  \"name\": \"whole_data\",\n  \"rows\": 10,\n  \"fields\": [\n    {\n      \"column\": \"conclusion\",\n      \"properties\": {\n        \"dtype\": \"string\",\n        \"num_unique_values\": 9,\n        \"samples\": [\n          \"eeg customary\",\n          \"eeg showed marked diffuse attenuation without reactivity surrounding stimuli eeg consistent severe diffuse cortical dysfunction\",\n          \"eeg shows generalized attenuation low amplitude slow waves persistent r frontal sharp waves consistent focal seizure severe diffuse cortical dysfunction\"\n        ],\n        \"semantic_type\": \"\",\n        \"description\": \"\"\n      }\n    },\n    {\n      \"column\": \"Abnormal\",\n      \"properties\": {\n        \"dtype\": \"number\",\n        \"std\": 0.5163977794943222,\n        \"min\": 0.0,\n        \"max\": 1.0,\n        \"num_unique_values\": 2,\n        \"samples\": [\n          1.0,\n          0.0\n        ],\n        \"semantic_type\": \"\",\n        \"description\": \"\"\n      }\n    }\n  ]\n}",
              "type": "dataframe"
            },
            "text/html": [
              "\n",
              "  <div id=\"df-902eba64-412e-44e1-a2ba-996a00e2d9db\" class=\"colab-df-container\">\n",
              "    <div>\n",
              "<style scoped>\n",
              "    .dataframe tbody tr th:only-of-type {\n",
              "        vertical-align: middle;\n",
              "    }\n",
              "\n",
              "    .dataframe tbody tr th {\n",
              "        vertical-align: top;\n",
              "    }\n",
              "\n",
              "    .dataframe thead th {\n",
              "        text-align: right;\n",
              "    }\n",
              "</style>\n",
              "<table border=\"1\" class=\"dataframe\">\n",
              "  <thead>\n",
              "    <tr style=\"text-align: right;\">\n",
              "      <th></th>\n",
              "      <th>conclusion</th>\n",
              "      <th>Abnormal</th>\n",
              "    </tr>\n",
              "  </thead>\n",
              "  <tbody>\n",
              "    <tr>\n",
              "      <th>4223</th>\n",
              "      <td>eeg sleep wakefulness within normal limits</td>\n",
              "      <td>0.0</td>\n",
              "    </tr>\n",
              "    <tr>\n",
              "      <th>3133</th>\n",
              "      <td>eeg showed marked diffuse attenuation without ...</td>\n",
              "      <td>1.0</td>\n",
              "    </tr>\n",
              "    <tr>\n",
              "      <th>108</th>\n",
              "      <td>frequent theta slow wave temporal regions poly...</td>\n",
              "      <td>1.0</td>\n",
              "    </tr>\n",
              "    <tr>\n",
              "      <th>5056</th>\n",
              "      <td>eeg within normal limits</td>\n",
              "      <td>0.0</td>\n",
              "    </tr>\n",
              "    <tr>\n",
              "      <th>1033</th>\n",
              "      <td>intermittent slow waves seen independantly bit...</td>\n",
              "      <td>0.0</td>\n",
              "    </tr>\n",
              "    <tr>\n",
              "      <th>1655</th>\n",
              "      <td>eeg shows generalized attenuation low amplitud...</td>\n",
              "      <td>1.0</td>\n",
              "    </tr>\n",
              "    <tr>\n",
              "      <th>1030</th>\n",
              "      <td>eeg normal</td>\n",
              "      <td>0.0</td>\n",
              "    </tr>\n",
              "    <tr>\n",
              "      <th>4828</th>\n",
              "      <td>eeg customary</td>\n",
              "      <td>0.0</td>\n",
              "    </tr>\n",
              "    <tr>\n",
              "      <th>1372</th>\n",
              "      <td>eeg within normal limits</td>\n",
              "      <td>0.0</td>\n",
              "    </tr>\n",
              "    <tr>\n",
              "      <th>1230</th>\n",
              "      <td>abnormal eeg sharp waves l posterior quadrant ...</td>\n",
              "      <td>1.0</td>\n",
              "    </tr>\n",
              "  </tbody>\n",
              "</table>\n",
              "</div>\n",
              "    <div class=\"colab-df-buttons\">\n",
              "\n",
              "  <div class=\"colab-df-container\">\n",
              "    <button class=\"colab-df-convert\" onclick=\"convertToInteractive('df-902eba64-412e-44e1-a2ba-996a00e2d9db')\"\n",
              "            title=\"Convert this dataframe to an interactive table.\"\n",
              "            style=\"display:none;\">\n",
              "\n",
              "  <svg xmlns=\"http://www.w3.org/2000/svg\" height=\"24px\" viewBox=\"0 -960 960 960\">\n",
              "    <path d=\"M120-120v-720h720v720H120Zm60-500h600v-160H180v160Zm220 220h160v-160H400v160Zm0 220h160v-160H400v160ZM180-400h160v-160H180v160Zm440 0h160v-160H620v160ZM180-180h160v-160H180v160Zm440 0h160v-160H620v160Z\"/>\n",
              "  </svg>\n",
              "    </button>\n",
              "\n",
              "  <style>\n",
              "    .colab-df-container {\n",
              "      display:flex;\n",
              "      gap: 12px;\n",
              "    }\n",
              "\n",
              "    .colab-df-convert {\n",
              "      background-color: #E8F0FE;\n",
              "      border: none;\n",
              "      border-radius: 50%;\n",
              "      cursor: pointer;\n",
              "      display: none;\n",
              "      fill: #1967D2;\n",
              "      height: 32px;\n",
              "      padding: 0 0 0 0;\n",
              "      width: 32px;\n",
              "    }\n",
              "\n",
              "    .colab-df-convert:hover {\n",
              "      background-color: #E2EBFA;\n",
              "      box-shadow: 0px 1px 2px rgba(60, 64, 67, 0.3), 0px 1px 3px 1px rgba(60, 64, 67, 0.15);\n",
              "      fill: #174EA6;\n",
              "    }\n",
              "\n",
              "    .colab-df-buttons div {\n",
              "      margin-bottom: 4px;\n",
              "    }\n",
              "\n",
              "    [theme=dark] .colab-df-convert {\n",
              "      background-color: #3B4455;\n",
              "      fill: #D2E3FC;\n",
              "    }\n",
              "\n",
              "    [theme=dark] .colab-df-convert:hover {\n",
              "      background-color: #434B5C;\n",
              "      box-shadow: 0px 1px 3px 1px rgba(0, 0, 0, 0.15);\n",
              "      filter: drop-shadow(0px 1px 2px rgba(0, 0, 0, 0.3));\n",
              "      fill: #FFFFFF;\n",
              "    }\n",
              "  </style>\n",
              "\n",
              "    <script>\n",
              "      const buttonEl =\n",
              "        document.querySelector('#df-902eba64-412e-44e1-a2ba-996a00e2d9db button.colab-df-convert');\n",
              "      buttonEl.style.display =\n",
              "        google.colab.kernel.accessAllowed ? 'block' : 'none';\n",
              "\n",
              "      async function convertToInteractive(key) {\n",
              "        const element = document.querySelector('#df-902eba64-412e-44e1-a2ba-996a00e2d9db');\n",
              "        const dataTable =\n",
              "          await google.colab.kernel.invokeFunction('convertToInteractive',\n",
              "                                                    [key], {});\n",
              "        if (!dataTable) return;\n",
              "\n",
              "        const docLinkHtml = 'Like what you see? Visit the ' +\n",
              "          '<a target=\"_blank\" href=https://colab.research.google.com/notebooks/data_table.ipynb>data table notebook</a>'\n",
              "          + ' to learn more about interactive tables.';\n",
              "        element.innerHTML = '';\n",
              "        dataTable['output_type'] = 'display_data';\n",
              "        await google.colab.output.renderOutput(dataTable, element);\n",
              "        const docLink = document.createElement('div');\n",
              "        docLink.innerHTML = docLinkHtml;\n",
              "        element.appendChild(docLink);\n",
              "      }\n",
              "    </script>\n",
              "  </div>\n",
              "\n",
              "\n",
              "<div id=\"df-f9f53c8c-048f-47cd-bd8a-103b205a09a8\">\n",
              "  <button class=\"colab-df-quickchart\" onclick=\"quickchart('df-f9f53c8c-048f-47cd-bd8a-103b205a09a8')\"\n",
              "            title=\"Suggest charts\"\n",
              "            style=\"display:none;\">\n",
              "\n",
              "<svg xmlns=\"http://www.w3.org/2000/svg\" height=\"24px\"viewBox=\"0 0 24 24\"\n",
              "     width=\"24px\">\n",
              "    <g>\n",
              "        <path d=\"M19 3H5c-1.1 0-2 .9-2 2v14c0 1.1.9 2 2 2h14c1.1 0 2-.9 2-2V5c0-1.1-.9-2-2-2zM9 17H7v-7h2v7zm4 0h-2V7h2v10zm4 0h-2v-4h2v4z\"/>\n",
              "    </g>\n",
              "</svg>\n",
              "  </button>\n",
              "\n",
              "<style>\n",
              "  .colab-df-quickchart {\n",
              "      --bg-color: #E8F0FE;\n",
              "      --fill-color: #1967D2;\n",
              "      --hover-bg-color: #E2EBFA;\n",
              "      --hover-fill-color: #174EA6;\n",
              "      --disabled-fill-color: #AAA;\n",
              "      --disabled-bg-color: #DDD;\n",
              "  }\n",
              "\n",
              "  [theme=dark] .colab-df-quickchart {\n",
              "      --bg-color: #3B4455;\n",
              "      --fill-color: #D2E3FC;\n",
              "      --hover-bg-color: #434B5C;\n",
              "      --hover-fill-color: #FFFFFF;\n",
              "      --disabled-bg-color: #3B4455;\n",
              "      --disabled-fill-color: #666;\n",
              "  }\n",
              "\n",
              "  .colab-df-quickchart {\n",
              "    background-color: var(--bg-color);\n",
              "    border: none;\n",
              "    border-radius: 50%;\n",
              "    cursor: pointer;\n",
              "    display: none;\n",
              "    fill: var(--fill-color);\n",
              "    height: 32px;\n",
              "    padding: 0;\n",
              "    width: 32px;\n",
              "  }\n",
              "\n",
              "  .colab-df-quickchart:hover {\n",
              "    background-color: var(--hover-bg-color);\n",
              "    box-shadow: 0 1px 2px rgba(60, 64, 67, 0.3), 0 1px 3px 1px rgba(60, 64, 67, 0.15);\n",
              "    fill: var(--button-hover-fill-color);\n",
              "  }\n",
              "\n",
              "  .colab-df-quickchart-complete:disabled,\n",
              "  .colab-df-quickchart-complete:disabled:hover {\n",
              "    background-color: var(--disabled-bg-color);\n",
              "    fill: var(--disabled-fill-color);\n",
              "    box-shadow: none;\n",
              "  }\n",
              "\n",
              "  .colab-df-spinner {\n",
              "    border: 2px solid var(--fill-color);\n",
              "    border-color: transparent;\n",
              "    border-bottom-color: var(--fill-color);\n",
              "    animation:\n",
              "      spin 1s steps(1) infinite;\n",
              "  }\n",
              "\n",
              "  @keyframes spin {\n",
              "    0% {\n",
              "      border-color: transparent;\n",
              "      border-bottom-color: var(--fill-color);\n",
              "      border-left-color: var(--fill-color);\n",
              "    }\n",
              "    20% {\n",
              "      border-color: transparent;\n",
              "      border-left-color: var(--fill-color);\n",
              "      border-top-color: var(--fill-color);\n",
              "    }\n",
              "    30% {\n",
              "      border-color: transparent;\n",
              "      border-left-color: var(--fill-color);\n",
              "      border-top-color: var(--fill-color);\n",
              "      border-right-color: var(--fill-color);\n",
              "    }\n",
              "    40% {\n",
              "      border-color: transparent;\n",
              "      border-right-color: var(--fill-color);\n",
              "      border-top-color: var(--fill-color);\n",
              "    }\n",
              "    60% {\n",
              "      border-color: transparent;\n",
              "      border-right-color: var(--fill-color);\n",
              "    }\n",
              "    80% {\n",
              "      border-color: transparent;\n",
              "      border-right-color: var(--fill-color);\n",
              "      border-bottom-color: var(--fill-color);\n",
              "    }\n",
              "    90% {\n",
              "      border-color: transparent;\n",
              "      border-bottom-color: var(--fill-color);\n",
              "    }\n",
              "  }\n",
              "</style>\n",
              "\n",
              "  <script>\n",
              "    async function quickchart(key) {\n",
              "      const quickchartButtonEl =\n",
              "        document.querySelector('#' + key + ' button');\n",
              "      quickchartButtonEl.disabled = true;  // To prevent multiple clicks.\n",
              "      quickchartButtonEl.classList.add('colab-df-spinner');\n",
              "      try {\n",
              "        const charts = await google.colab.kernel.invokeFunction(\n",
              "            'suggestCharts', [key], {});\n",
              "      } catch (error) {\n",
              "        console.error('Error during call to suggestCharts:', error);\n",
              "      }\n",
              "      quickchartButtonEl.classList.remove('colab-df-spinner');\n",
              "      quickchartButtonEl.classList.add('colab-df-quickchart-complete');\n",
              "    }\n",
              "    (() => {\n",
              "      let quickchartButtonEl =\n",
              "        document.querySelector('#df-f9f53c8c-048f-47cd-bd8a-103b205a09a8 button');\n",
              "      quickchartButtonEl.style.display =\n",
              "        google.colab.kernel.accessAllowed ? 'block' : 'none';\n",
              "    })();\n",
              "  </script>\n",
              "</div>\n",
              "\n",
              "    </div>\n",
              "  </div>\n"
            ],
            "text/plain": [
              "                                             conclusion  Abnormal\n",
              "4223         eeg sleep wakefulness within normal limits       0.0\n",
              "3133  eeg showed marked diffuse attenuation without ...       1.0\n",
              "108   frequent theta slow wave temporal regions poly...       1.0\n",
              "5056                           eeg within normal limits       0.0\n",
              "1033  intermittent slow waves seen independantly bit...       0.0\n",
              "1655  eeg shows generalized attenuation low amplitud...       1.0\n",
              "1030                                         eeg normal       0.0\n",
              "4828                                      eeg customary       0.0\n",
              "1372                           eeg within normal limits       0.0\n",
              "1230  abnormal eeg sharp waves l posterior quadrant ...       1.0"
            ]
          },
          "execution_count": 12,
          "metadata": {},
          "output_type": "execute_result"
        }
      ],
      "source": [
        "whole_data.sample(10)"
      ]
    },
    {
      "cell_type": "code",
      "execution_count": null,
      "metadata": {
        "id": "iQbPchwHo4BS"
      },
      "outputs": [],
      "source": [
        "X_train, y_train = train_data[\"conclusion\"].values, train_data[\"Abnormal\"].values\n",
        "X_test, y_test = test_data[\"conclusion\"].values, test_data[\"Abnormal\"].values"
      ]
    },
    {
      "cell_type": "code",
      "execution_count": null,
      "metadata": {
        "colab": {
          "base_uri": "https://localhost:8080/"
        },
        "id": "QOuJ1XEho5I6",
        "outputId": "3225eaee-2a77-4289-9d47-115855f378e8"
      },
      "outputs": [
        {
          "name": "stdout",
          "output_type": "stream",
          "text": [
            "6448\n"
          ]
        }
      ],
      "source": [
        "documents = [_text.split() for _text in whole_data.conclusion]\n",
        "print(len(documents))"
      ]
    },
    {
      "cell_type": "code",
      "execution_count": null,
      "metadata": {
        "id": "hpA_Sai4o6IE"
      },
      "outputs": [],
      "source": [
        "cbow_w2v = gensim.models.Word2Vec(documents, vector_size=W2V_SIZE, window=W2V_WINDOW, min_count=W2V_MIN_COUNT, workers=8, sg=0)"
      ]
    },
    {
      "cell_type": "code",
      "execution_count": null,
      "metadata": {
        "colab": {
          "base_uri": "https://localhost:8080/"
        },
        "id": "TfBWU-rCo7IO",
        "outputId": "b570f8b2-5a37-4f93-8708-101a2026b566"
      },
      "outputs": [
        {
          "name": "stdout",
          "output_type": "stream",
          "text": [
            "Vocab size: 473\n"
          ]
        }
      ],
      "source": [
        "words = cbow_w2v.wv.index_to_key\n",
        "vocab_size_wv = len(words)\n",
        "print(\"Vocab size:\", vocab_size_wv)"
      ]
    },
    {
      "cell_type": "code",
      "execution_count": null,
      "metadata": {
        "colab": {
          "base_uri": "https://localhost:8080/"
        },
        "id": "GvGeq2B4o8Bd",
        "outputId": "b376c9bd-5245-4871-b7eb-5c97cc800341"
      },
      "outputs": [
        {
          "data": {
            "text/plain": [
              "[('mildly', 0.9684221148490906),\n",
              " ('bitemporal', 0.9683609008789062),\n",
              " ('intermittent', 0.9630005359649658),\n",
              " ('slow', 0.9614043235778809),\n",
              " ('occasionally', 0.9545653462409973),\n",
              " ('wave', 0.9494514465332031),\n",
              " ('posterior', 0.9486069679260254),\n",
              " ('isolated', 0.9456438422203064),\n",
              " ('frontotemporal', 0.9431381821632385),\n",
              " ('side', 0.9408008456230164)]"
            ]
          },
          "execution_count": 17,
          "metadata": {},
          "output_type": "execute_result"
        }
      ],
      "source": [
        "cbow_w2v.wv.most_similar(\"abnormal\")"
      ]
    },
    {
      "cell_type": "code",
      "execution_count": null,
      "metadata": {
        "id": "nesfXELDo87V"
      },
      "outputs": [],
      "source": [
        "tokenizer = Tokenizer()\n",
        "tokenizer.fit_on_texts(whole_data.conclusion)"
      ]
    },
    {
      "cell_type": "code",
      "execution_count": null,
      "metadata": {
        "colab": {
          "base_uri": "https://localhost:8080/"
        },
        "id": "bnf2zaZuo-Tc",
        "outputId": "964eea75-5566-474d-e8c4-32edb9b44401"
      },
      "outputs": [
        {
          "name": "stdout",
          "output_type": "stream",
          "text": [
            "Total words 2237\n"
          ]
        }
      ],
      "source": [
        "vocab_size = len(tokenizer.word_index) + 1\n",
        "print(\"Total words\", vocab_size)"
      ]
    },
    {
      "cell_type": "code",
      "execution_count": null,
      "metadata": {
        "id": "6RPRl7KUo_Ig"
      },
      "outputs": [],
      "source": [
        "x_train = pad_sequences(tokenizer.texts_to_sequences(X_train), maxlen=SEQUENCE_LENGTH)\n",
        "x_test = pad_sequences(tokenizer.texts_to_sequences(X_test), maxlen=SEQUENCE_LENGTH)"
      ]
    },
    {
      "cell_type": "code",
      "execution_count": null,
      "metadata": {
        "colab": {
          "base_uri": "https://localhost:8080/"
        },
        "id": "52PNYaoCpAYK",
        "outputId": "3ed39ffd-02f1-4112-c740-be28bebbfa35"
      },
      "outputs": [
        {
          "name": "stdout",
          "output_type": "stream",
          "text": [
            "y_train (5948, 1)\n",
            "y_test (500, 1)\n"
          ]
        }
      ],
      "source": [
        "encoder = LabelEncoder()\n",
        "encoder.fit(whole_data.Abnormal.tolist())\n",
        "y_train = encoder.transform(y_train.tolist())\n",
        "y_test = encoder.transform(y_test.tolist())\n",
        "y_train = y_train.reshape(-1,1)\n",
        "y_test = y_test.reshape(-1,1)\n",
        "print(\"y_train\",y_train.shape)\n",
        "print(\"y_test\",y_test.shape)"
      ]
    },
    {
      "cell_type": "code",
      "execution_count": null,
      "metadata": {
        "colab": {
          "base_uri": "https://localhost:8080/"
        },
        "id": "loY0gCGWpBB7",
        "outputId": "e455ad85-4484-434c-93ed-6c44a513af91"
      },
      "outputs": [
        {
          "name": "stdout",
          "output_type": "stream",
          "text": [
            "x_train (5948, 300)\n",
            "y_train (5948, 1)\n",
            "\n",
            "x_test (500, 300)\n",
            "y_test (500, 1)\n"
          ]
        }
      ],
      "source": [
        "print(\"x_train\", x_train.shape)\n",
        "print(\"y_train\", y_train.shape)\n",
        "print()\n",
        "print(\"x_test\", x_test.shape)\n",
        "print(\"y_test\", y_test.shape)"
      ]
    },
    {
      "cell_type": "code",
      "execution_count": null,
      "metadata": {
        "colab": {
          "base_uri": "https://localhost:8080/"
        },
        "id": "4onMmKfspCIb",
        "outputId": "7c658a37-2a0a-4c76-9b22-80d2d3c4e254"
      },
      "outputs": [
        {
          "name": "stdout",
          "output_type": "stream",
          "text": [
            "(2237, 300)\n"
          ]
        }
      ],
      "source": [
        "embedding_matrix = np.zeros((vocab_size, W2V_SIZE))\n",
        "for word, i in tokenizer.word_index.items():\n",
        " if word in cbow_w2v.wv:\n",
        "    embedding_matrix[i] = cbow_w2v.wv[word]\n",
        "print(embedding_matrix.shape)"
      ]
    },
    {
      "cell_type": "code",
      "execution_count": null,
      "metadata": {
        "id": "mmrMLefkpDVJ"
      },
      "outputs": [],
      "source": [
        "embedding_layer = Embedding(vocab_size, W2V_SIZE, weights=[embedding_matrix], input_length=SEQUENCE_LENGTH, trainable=False)"
      ]
    },
    {
      "cell_type": "code",
      "execution_count": null,
      "metadata": {
        "id": "-WPHdPJFpGVA"
      },
      "outputs": [],
      "source": [
        "class Custom_Attention(Layer):\n",
        "\n",
        "  def __init__(self, return_sequences=True):\n",
        "    self.return_sequences = return_sequences\n",
        "    super(Custom_Attention, self).__init__()\n",
        "\n",
        "  def build(self, input_shape):\n",
        "\n",
        "    self.W = self.add_weight(name=\"att_weight\", shape=(input_shape[-1], 1), initializer=\"normal\")\n",
        "    self.b = self.add_weight(name=\"att_bias\", shape=(input_shape[1], 1), initializer=\"zeros\")\n",
        "\n",
        "    super(Custom_Attention, self).build(input_shape)\n",
        "\n",
        "  def call(self, x):\n",
        "\n",
        "    e = K.tanh(K.dot(x, self.W) + self.b)\n",
        "    a = K.softmax(e, axis=1)\n",
        "    output = x*a\n",
        "\n",
        "    if self.return_sequences:\n",
        "      return output\n",
        "\n",
        "    return K.sum(output, axis=1)"
      ]
    },
    {
      "cell_type": "code",
      "execution_count": 125,
      "metadata": {
        "colab": {
          "base_uri": "https://localhost:8080/"
        },
        "id": "rqizIDFCqDCP",
        "outputId": "4817f1b4-4e27-4eec-9b7a-f0221abc988c"
      },
      "outputs": [
        {
          "output_type": "stream",
          "name": "stderr",
          "text": [
            "WARNING:tensorflow:Layer gru_1 will not use cuDNN kernels since it doesn't meet the criteria. It will use a generic GPU kernel as fallback when running on GPU.\n",
            "WARNING:tensorflow:Layer gru_1 will not use cuDNN kernels since it doesn't meet the criteria. It will use a generic GPU kernel as fallback when running on GPU.\n",
            "WARNING:tensorflow:Layer gru_1 will not use cuDNN kernels since it doesn't meet the criteria. It will use a generic GPU kernel as fallback when running on GPU.\n"
          ]
        },
        {
          "output_type": "stream",
          "name": "stdout",
          "text": [
            "Model: \"sequential_8\"\n",
            "_________________________________________________________________\n",
            " Layer (type)                Output Shape              Param #   \n",
            "=================================================================\n",
            " embedding (Embedding)       (None, 300, 300)          671100    \n",
            "                                                                 \n",
            " dropout_15 (Dropout)        (None, 300, 300)          0         \n",
            "                                                                 \n",
            " bidirectional_10 (Bidirect  (None, 300, 200)          241200    \n",
            " ional)                                                          \n",
            "                                                                 \n",
            " custom__attention_5 (Custo  (None, 200)               500       \n",
            " m_Attention)                                                    \n",
            "                                                                 \n",
            " dropout_16 (Dropout)        (None, 200)               0         \n",
            "                                                                 \n",
            " dense_8 (Dense)             (None, 1)                 201       \n",
            "                                                                 \n",
            "=================================================================\n",
            "Total params: 913001 (3.48 MB)\n",
            "Trainable params: 241901 (944.93 KB)\n",
            "Non-trainable params: 671100 (2.56 MB)\n",
            "_________________________________________________________________\n"
          ]
        }
      ],
      "source": [
        "cbow_att_model = Sequential()\n",
        "cbow_att_model.add(embedding_layer)\n",
        "cbow_att_model.add(Dropout(0.5))\n",
        "cbow_att_model.add(Bidirectional(GRU(100, dropout=0.2, recurrent_dropout=0.2, return_sequences=True)))\n",
        "cbow_att_model.add(Custom_Attention(return_sequences=False))\n",
        "cbow_att_model.add(Dropout(0.5))\n",
        "cbow_att_model.add(Dense(1, activation='sigmoid', kernel_regularizer='l1'))\n",
        "cbow_att_model.summary()"
      ]
    },
    {
      "cell_type": "code",
      "execution_count": 126,
      "metadata": {
        "id": "zaE6Ti1fqTiH"
      },
      "outputs": [],
      "source": [
        "cbow_att_model.compile(loss='binary_crossentropy',\n",
        "                    optimizer=\"adam\",\n",
        "                    metrics=[\"accuracy\"])"
      ]
    },
    {
      "cell_type": "code",
      "execution_count": 127,
      "metadata": {
        "id": "kxwb_67qquEr"
      },
      "outputs": [],
      "source": [
        "callbacks = [ReduceLROnPlateau(monitor='val_loss', patience=5, cooldown=0),\n",
        "             EarlyStopping(monitor='val_accuracy', min_delta=1e-4, patience=5)]"
      ]
    },
    {
      "cell_type": "code",
      "execution_count": 128,
      "metadata": {
        "colab": {
          "base_uri": "https://localhost:8080/"
        },
        "id": "p3Bwzi2-qvyY",
        "outputId": "f869f9eb-5ae4-4f53-93c8-1ff54ea01209"
      },
      "outputs": [
        {
          "output_type": "stream",
          "name": "stdout",
          "text": [
            "Epoch 1/32\n",
            "6/6 [==============================] - 16s 2s/step - loss: 0.8474 - accuracy: 0.7521 - val_loss: 0.8042 - val_accuracy: 0.5227 - lr: 0.0010\n",
            "Epoch 2/32\n",
            "6/6 [==============================] - 10s 2s/step - loss: 0.7702 - accuracy: 0.6486 - val_loss: 0.7005 - val_accuracy: 0.8824 - lr: 0.0010\n",
            "Epoch 3/32\n",
            "6/6 [==============================] - 10s 2s/step - loss: 0.6656 - accuracy: 0.9172 - val_loss: 0.5883 - val_accuracy: 0.9092 - lr: 0.0010\n",
            "Epoch 4/32\n",
            "6/6 [==============================] - 11s 2s/step - loss: 0.5218 - accuracy: 0.9380 - val_loss: 0.5251 - val_accuracy: 0.8891 - lr: 0.0010\n",
            "Epoch 5/32\n",
            "6/6 [==============================] - 9s 1s/step - loss: 0.3770 - accuracy: 0.9329 - val_loss: 0.3508 - val_accuracy: 0.9513 - lr: 0.0010\n",
            "Epoch 6/32\n",
            "6/6 [==============================] - 10s 2s/step - loss: 0.3241 - accuracy: 0.9486 - val_loss: 0.3575 - val_accuracy: 0.9261 - lr: 0.0010\n",
            "Epoch 7/32\n",
            "6/6 [==============================] - 11s 2s/step - loss: 0.2962 - accuracy: 0.9555 - val_loss: 0.2813 - val_accuracy: 0.9563 - lr: 0.0010\n",
            "Epoch 8/32\n",
            "6/6 [==============================] - 11s 2s/step - loss: 0.2751 - accuracy: 0.9602 - val_loss: 0.2774 - val_accuracy: 0.9513 - lr: 0.0010\n",
            "Epoch 9/32\n",
            "6/6 [==============================] - 10s 2s/step - loss: 0.2561 - accuracy: 0.9628 - val_loss: 0.2658 - val_accuracy: 0.9563 - lr: 0.0010\n",
            "Epoch 10/32\n",
            "6/6 [==============================] - 9s 1s/step - loss: 0.2464 - accuracy: 0.9649 - val_loss: 0.2669 - val_accuracy: 0.9546 - lr: 0.0010\n",
            "Epoch 11/32\n",
            "6/6 [==============================] - 10s 2s/step - loss: 0.2367 - accuracy: 0.9666 - val_loss: 0.2674 - val_accuracy: 0.9479 - lr: 0.0010\n",
            "Epoch 12/32\n",
            "6/6 [==============================] - 10s 2s/step - loss: 0.2248 - accuracy: 0.9651 - val_loss: 0.2318 - val_accuracy: 0.9479 - lr: 0.0010\n"
          ]
        }
      ],
      "source": [
        "history = cbow_att_model.fit(x_train, y_train,\n",
        "                         batch_size=BATCH_SIZE,\n",
        "                         epochs=EPOCHS,\n",
        "                         validation_split=0.1,\n",
        "                         verbose=1,\n",
        "                         callbacks=callbacks)\n",
        "\n",
        "cbow_att_model.save(KERAS_MODEL)\n",
        "cbow_att_model.save(WORD2VEC_MODEL)\n",
        "pickle.dump(tokenizer, open(TOKENIZER_MODEL, \"wb\"), protocol=0)\n",
        "pickle.dump(encoder, open(ENCODER_MODEL, \"wb\"), protocol=0)"
      ]
    },
    {
      "cell_type": "code",
      "execution_count": 129,
      "metadata": {
        "colab": {
          "base_uri": "https://localhost:8080/",
          "height": 887
        },
        "id": "xHRrhu8Tq4Nr",
        "outputId": "5e221048-0e22-485f-c445-763b9257b881"
      },
      "outputs": [
        {
          "output_type": "display_data",
          "data": {
            "text/plain": [
              "<Figure size 640x480 with 1 Axes>"
            ],
            "image/png": "[encoded data removed]"
          },
          "metadata": {}
        },
        {
          "output_type": "display_data",
          "data": {
            "text/plain": [
              "<Figure size 640x480 with 1 Axes>"
            ],
            "image/png": "[encoded data removed]"
          },
          "metadata": {}
        }
      ],
      "source": [
        "acc = history.history['accuracy']\n",
        "val_acc = history.history['val_accuracy']\n",
        "loss = history.history['loss']\n",
        "val_loss = history.history['val_loss']\n",
        "\n",
        "epochs = range(len(acc))\n",
        "\n",
        "plt.plot(epochs, acc, 'b', label='Training acc')\n",
        "plt.plot(epochs, val_acc, 'r', label='Validation acc')\n",
        "plt.title('Training and validation accuracy')\n",
        "plt.legend()\n",
        "\n",
        "plt.figure()\n",
        "\n",
        "plt.plot(epochs, loss, 'b', label='Training loss')\n",
        "plt.plot(epochs, val_loss, 'r', label='Validation loss')\n",
        "plt.title('Training and validation loss')\n",
        "plt.legend()\n",
        "\n",
        "plt.show()"
      ]
    },
    {
      "cell_type": "code",
      "execution_count": 130,
      "metadata": {
        "id": "aYLYUImtzGV9",
        "colab": {
          "base_uri": "https://localhost:8080/"
        },
        "outputId": "c8ac5bd0-305b-4c7b-de13-0aa40f87722c"
      },
      "outputs": [
        {
          "output_type": "stream",
          "name": "stdout",
          "text": [
            "1/1 [==============================] - 0s 309ms/step - loss: 0.1939 - accuracy: 0.9680\n",
            "\n",
            "ACCURACY: 0.9679999947547913\n",
            "LOSS: 0.19393208622932434\n",
            "CPU times: user 354 ms, sys: 7.79 ms, total: 362 ms\n",
            "Wall time: 406 ms\n"
          ]
        }
      ],
      "source": [
        "%%time\n",
        "score = cbow_att_model.evaluate(x_test, y_test, batch_size=BATCH_SIZE)\n",
        "print()\n",
        "print(\"ACCURACY:\",score[1])\n",
        "print(\"LOSS:\",score[0])"
      ]
    },
    {
      "cell_type": "code",
      "execution_count": 131,
      "metadata": {
        "id": "s1VN3Ht3zMiF"
      },
      "outputs": [],
      "source": [
        "def decode_prediction(score):\n",
        "  return NORMAL if score < 0.5 else ABNORMAL"
      ]
    },
    {
      "cell_type": "code",
      "execution_count": 132,
      "metadata": {
        "colab": {
          "base_uri": "https://localhost:8080/"
        },
        "id": "0OcAxogfzN5g",
        "outputId": "817195de-5fa5-43c6-d791-ecb30a087d3e"
      },
      "outputs": [
        {
          "output_type": "stream",
          "name": "stdout",
          "text": [
            "1/1 [==============================] - 1s 752ms/step\n",
            "CPU times: user 778 ms, sys: 37.2 ms, total: 815 ms\n",
            "Wall time: 806 ms\n"
          ]
        }
      ],
      "source": [
        "%%time\n",
        "y_pred_1d = []\n",
        "y_test_1d = list(y_test)\n",
        "scores = cbow_att_model.predict(x_test, verbose=1, batch_size=8000)\n",
        "y_pred_1d = [decode_prediction(score) for score in scores]"
      ]
    },
    {
      "cell_type": "code",
      "execution_count": 133,
      "metadata": {
        "id": "6Ed1V2t0zQoR"
      },
      "outputs": [],
      "source": [
        "def plot_confusion_matrix(cm, classes, title='Confusion matrix', cmap=plt.cm.Blues):\n",
        "\n",
        "  cm = cm.astype('float') / cm.sum(axis=1)[:, np.newaxis]\n",
        "\n",
        "  plt.imshow(cm, interpolation='nearest', cmap=cmap)\n",
        "  plt.title(title, fontsize=30)\n",
        "  plt.colorbar()\n",
        "  tick_marks = np.arange(len(classes))\n",
        "  plt.xticks(tick_marks, classes, rotation=90, fontsize=22)\n",
        "  plt.yticks(tick_marks, classes, fontsize=22)\n",
        "\n",
        "  fmt = '.2f'\n",
        "  thresh = cm.max() / 2\n",
        "  for i, j in itertools.product(range(cm.shape[0]), range(cm.shape[1])):\n",
        "    plt.text(j, i, format(cm[i, j], fmt),\n",
        "             horizontalalignment=\"center\",\n",
        "             color=\"white\" if cm[i, j] > thresh else \"black\")\n",
        "\n",
        "    plt.ylabel('True label', fontsize=25)\n",
        "    plt.xlabel('Predicted label', fontsize=25)"
      ]
    },
    {
      "cell_type": "code",
      "execution_count": 134,
      "metadata": {
        "colab": {
          "base_uri": "https://localhost:8080/",
          "height": 996
        },
        "id": "a2YLKBg3zSvH",
        "outputId": "5f1fcbbc-a56f-4a49-e216-9f49f3dcd2ec"
      },
      "outputs": [
        {
          "output_type": "display_data",
          "data": {
            "text/plain": [
              "<Figure size 1200x1200 with 2 Axes>"
            ],
            "image/png": "[encoded data removed]"
          },
          "metadata": {}
        },
        {
          "output_type": "stream",
          "name": "stdout",
          "text": [
            "CPU times: user 335 ms, sys: 218 ms, total: 553 ms\n",
            "Wall time: 310 ms\n"
          ]
        }
      ],
      "source": [
        "%%time\n",
        "cnf_matrix = confusion_matrix(y_test_1d, y_pred_1d)\n",
        "plt.figure(figsize=(12,12))\n",
        "plot_confusion_matrix(cnf_matrix, classes=np.unique(y_train), title=\"CBOW Attention BiGRU Confusion matrix\")\n",
        "plt.show()"
      ]
    },
    {
      "cell_type": "code",
      "execution_count": 135,
      "metadata": {
        "colab": {
          "base_uri": "https://localhost:8080/"
        },
        "id": "ABIt5RffzUUZ",
        "outputId": "9c7318bd-4871-4f1e-fc1e-a19f4bbda0c2"
      },
      "outputs": [
        {
          "output_type": "stream",
          "name": "stdout",
          "text": [
            "              precision    recall  f1-score   support\n",
            "\n",
            "           0       0.98      0.93      0.95       176\n",
            "           1       0.96      0.99      0.98       324\n",
            "\n",
            "    accuracy                           0.97       500\n",
            "   macro avg       0.97      0.96      0.96       500\n",
            "weighted avg       0.97      0.97      0.97       500\n",
            "\n"
          ]
        }
      ],
      "source": [
        "print(classification_report(y_test_1d, y_pred_1d))"
      ]
    },
    {
      "cell_type": "code",
      "execution_count": 136,
      "metadata": {
        "colab": {
          "base_uri": "https://localhost:8080/"
        },
        "id": "WeVePy04zXZU",
        "outputId": "ad3bad11-6d72-45fb-aefe-9b31ed6132a0"
      },
      "outputs": [
        {
          "output_type": "execute_result",
          "data": {
            "text/plain": [
              "0.968"
            ]
          },
          "metadata": {},
          "execution_count": 136
        }
      ],
      "source": [
        "accuracy_score(y_test_1d, y_pred_1d)"
      ]
    },
    {
      "cell_type": "code",
      "execution_count": 137,
      "metadata": {
        "id": "p5dl43wmzY_j"
      },
      "outputs": [],
      "source": [
        "cbow_att_model.save(f\"{gdrive_path}{KERAS_MODEL}\")\n",
        "cbow_w2v.save(f\"{gdrive_path}{WORD2VEC_MODEL}\")\n",
        "pickle.dump(tokenizer, open(f\"{gdrive_path}{TOKENIZER_MODEL}\", \"wb\"), protocol=0)\n",
        "pickle.dump(encoder, open(f\"{gdrive_path}{ENCODER_MODEL}\", \"wb\"), protocol=0)"
      ]
    },
    {
      "cell_type": "code",
      "execution_count": null,
      "metadata": {
        "colab": {
          "base_uri": "https://localhost:8080/",
          "height": 34
        },
        "id": "xv7R1lz8zcLT",
        "outputId": "ce64a8d2-0093-48d5-e8e1-f577110a5af9"
      },
      "outputs": [
        {
          "data": {
            "application/javascript": [
              "\n",
              "    async function download(id, filename, size) {\n",
              "      if (!google.colab.kernel.accessAllowed) {\n",
              "        return;\n",
              "      }\n",
              "      const div = document.createElement('div');\n",
              "      const label = document.createElement('label');\n",
              "      label.textContent = `Downloading \"${filename}\": `;\n",
              "      div.appendChild(label);\n",
              "      const progress = document.createElement('progress');\n",
              "      progress.max = size;\n",
              "      div.appendChild(progress);\n",
              "      document.body.appendChild(div);\n",
              "\n",
              "      const buffers = [];\n",
              "      let downloaded = 0;\n",
              "\n",
              "      const channel = await google.colab.kernel.comms.open(id);\n",
              "      // Send a message to notify the kernel that we're ready.\n",
              "      channel.send({})\n",
              "\n",
              "      for await (const message of channel.messages) {\n",
              "        // Send a message to notify the kernel that we're ready.\n",
              "        channel.send({})\n",
              "        if (message.buffers) {\n",
              "          for (const buffer of message.buffers) {\n",
              "            buffers.push(buffer);\n",
              "            downloaded += buffer.byteLength;\n",
              "            progress.value = downloaded;\n",
              "          }\n",
              "        }\n",
              "      }\n",
              "      const blob = new Blob(buffers, {type: 'application/binary'});\n",
              "      const a = document.createElement('a');\n",
              "      a.href = window.URL.createObjectURL(blob);\n",
              "      a.download = filename;\n",
              "      div.appendChild(a);\n",
              "      a.click();\n",
              "      div.remove();\n",
              "    }\n",
              "  "
            ],
            "text/plain": [
              "<IPython.core.display.Javascript object>"
            ]
          },
          "metadata": {},
          "output_type": "display_data"
        },
        {
          "data": {
            "application/javascript": [
              "download(\"download_888bce17-62f7-4155-aa7b-62f9864acb38\", \"mydata.zip\", 214322397)"
            ],
            "text/plain": [
              "<IPython.core.display.Javascript object>"
            ]
          },
          "metadata": {},
          "output_type": "display_data"
        }
      ],
      "source": [
        "# download the trained model\n",
        "import shutil\n",
        "shutil.make_archive(\"/content/drive/MyDrive/mydata\", 'zip', \"/content/drive/MyDrive/mydata\")\n",
        "from google.colab import files\n",
        "files.download(\"/content/drive/MyDrive/mydata.zip\")"
      ]
    },
    {
      "cell_type": "code",
      "execution_count": null,
      "metadata": {
        "id": "gJApUVEQgsTg"
      },
      "outputs": [],
      "source": []
    }
  ],
  "metadata": {
    "accelerator": "GPU",
    "colab": {
      "gpuType": "T4",
      "provenance": []
    },
    "kernelspec": {
      "display_name": "Python 3",
      "name": "python3"
    },
    "language_info": {
      "name": "python"
    }
  },
  "nbformat": 4,
  "nbformat_minor": 0
}